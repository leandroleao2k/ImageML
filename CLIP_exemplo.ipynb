{
  "nbformat": 4,
  "nbformat_minor": 0,
  "metadata": {
    "colab": {
      "name": "CLIP exemplo.ipynb",
      "provenance": [],
      "collapsed_sections": [],
      "authorship_tag": "ABX9TyPBh8K5TlmNFK7EPwOdO07O",
      "include_colab_link": true
    },
    "kernelspec": {
      "name": "python3",
      "display_name": "Python 3"
    },
    "language_info": {
      "name": "python"
    }
  },
  "cells": [
    {
      "cell_type": "markdown",
      "metadata": {
        "id": "view-in-github",
        "colab_type": "text"
      },
      "source": [
        "<a href=\"https://colab.research.google.com/github/leandroleao2k/ImageML/blob/main/CLIP_exemplo.ipynb\" target=\"_parent\"><img src=\"https://colab.research.google.com/assets/colab-badge.svg\" alt=\"Open In Colab\"/></a>"
      ]
    },
    {
      "cell_type": "markdown",
      "source": [
        "Instalação CLIP do OpenAI"
      ],
      "metadata": {
        "id": "b-AZzWZiDydT"
      }
    },
    {
      "cell_type": "code",
      "execution_count": 1,
      "metadata": {
        "colab": {
          "base_uri": "https://localhost:8080/"
        },
        "id": "0pK1Z0WjCxrh",
        "outputId": "358f643d-5f78-4c32-82bf-f8ddc5e86fab"
      },
      "outputs": [
        {
          "output_type": "stream",
          "name": "stdout",
          "text": [
            "/bin/bash: conda: command not found\n",
            "Looking in indexes: https://pypi.org/simple, https://us-python.pkg.dev/colab-wheels/public/simple/\n",
            "Collecting ftfy\n",
            "  Downloading ftfy-6.1.1-py3-none-any.whl (53 kB)\n",
            "\u001b[K     |████████████████████████████████| 53 kB 1.5 MB/s \n",
            "\u001b[?25hRequirement already satisfied: regex in /usr/local/lib/python3.7/dist-packages (2022.6.2)\n",
            "Requirement already satisfied: tqdm in /usr/local/lib/python3.7/dist-packages (4.64.0)\n",
            "Requirement already satisfied: wcwidth>=0.2.5 in /usr/local/lib/python3.7/dist-packages (from ftfy) (0.2.5)\n",
            "Installing collected packages: ftfy\n",
            "Successfully installed ftfy-6.1.1\n",
            "Looking in indexes: https://pypi.org/simple, https://us-python.pkg.dev/colab-wheels/public/simple/\n",
            "Collecting git+https://github.com/openai/CLIP.git\n",
            "  Cloning https://github.com/openai/CLIP.git to /tmp/pip-req-build-ri8saugg\n",
            "  Running command git clone -q https://github.com/openai/CLIP.git /tmp/pip-req-build-ri8saugg\n",
            "Requirement already satisfied: ftfy in /usr/local/lib/python3.7/dist-packages (from clip==1.0) (6.1.1)\n",
            "Requirement already satisfied: regex in /usr/local/lib/python3.7/dist-packages (from clip==1.0) (2022.6.2)\n",
            "Requirement already satisfied: tqdm in /usr/local/lib/python3.7/dist-packages (from clip==1.0) (4.64.0)\n",
            "Requirement already satisfied: torch in /usr/local/lib/python3.7/dist-packages (from clip==1.0) (1.11.0+cu113)\n",
            "Requirement already satisfied: torchvision in /usr/local/lib/python3.7/dist-packages (from clip==1.0) (0.12.0+cu113)\n",
            "Requirement already satisfied: wcwidth>=0.2.5 in /usr/local/lib/python3.7/dist-packages (from ftfy->clip==1.0) (0.2.5)\n",
            "Requirement already satisfied: typing-extensions in /usr/local/lib/python3.7/dist-packages (from torch->clip==1.0) (4.2.0)\n",
            "Requirement already satisfied: pillow!=8.3.*,>=5.3.0 in /usr/local/lib/python3.7/dist-packages (from torchvision->clip==1.0) (7.1.2)\n",
            "Requirement already satisfied: numpy in /usr/local/lib/python3.7/dist-packages (from torchvision->clip==1.0) (1.21.6)\n",
            "Requirement already satisfied: requests in /usr/local/lib/python3.7/dist-packages (from torchvision->clip==1.0) (2.23.0)\n",
            "Requirement already satisfied: idna<3,>=2.5 in /usr/local/lib/python3.7/dist-packages (from requests->torchvision->clip==1.0) (2.10)\n",
            "Requirement already satisfied: chardet<4,>=3.0.2 in /usr/local/lib/python3.7/dist-packages (from requests->torchvision->clip==1.0) (3.0.4)\n",
            "Requirement already satisfied: urllib3!=1.25.0,!=1.25.1,<1.26,>=1.21.1 in /usr/local/lib/python3.7/dist-packages (from requests->torchvision->clip==1.0) (1.24.3)\n",
            "Requirement already satisfied: certifi>=2017.4.17 in /usr/local/lib/python3.7/dist-packages (from requests->torchvision->clip==1.0) (2022.5.18.1)\n",
            "Building wheels for collected packages: clip\n",
            "  Building wheel for clip (setup.py) ... \u001b[?25l\u001b[?25hdone\n",
            "  Created wheel for clip: filename=clip-1.0-py3-none-any.whl size=1369387 sha256=cfc3053848b851a43db7df0eaf216f4ebf332455bb11dc32f9f2567407b49aac\n",
            "  Stored in directory: /tmp/pip-ephem-wheel-cache-npcxidyu/wheels/fd/b9/c3/5b4470e35ed76e174bff77c92f91da82098d5e35fd5bc8cdac\n",
            "Successfully built clip\n",
            "Installing collected packages: clip\n",
            "Successfully installed clip-1.0\n"
          ]
        }
      ],
      "source": [
        "!conda install --yes -c pytorch pytorch=1.7.1 torchvision cudatoolkit=11.0\n",
        "!pip install ftfy regex tqdm\n",
        "!pip install git+https://github.com/openai/CLIP.git"
      ]
    },
    {
      "cell_type": "code",
      "source": [
        "import torch\n",
        "import clip\n",
        "from PIL import Image\n",
        "\n",
        "# funcao para mostrar predicoes\n",
        "def format_preds(probs, texts):\n",
        "    for p, t in zip(probs, texts):\n",
        "      print(f'{p:6.5f}-{t}')\n",
        "\n",
        "# importando o modelo da internet 300Mb\n",
        "device = \"cuda\" if torch.cuda.is_available() else \"cpu\"\n",
        "model, preprocess = clip.load(\"ViT-B/32\", device=device)"
      ],
      "metadata": {
        "id": "YD2-VkDhDxpC"
      },
      "execution_count": 8,
      "outputs": []
    },
    {
      "cell_type": "markdown",
      "source": [
        "# CLIP vai reconhecer o carro baseado no texto"
      ],
      "metadata": {
        "id": "PjjTDa3GK9UI"
      }
    },
    {
      "cell_type": "code",
      "source": [
        "from torchvision import transforms\n",
        "composed = transforms.Compose([\n",
        "  transforms.Resize(256),\n",
        "  transforms.CenterCrop(256)\n",
        "])\n",
        "\n",
        "# carrega a imagem do notebook\n",
        "image_pil = composed(Image.open(\"corvette.jpeg\"))\n",
        "image_pil\n",
        "\n",
        "possible_classes = [\n",
        " \"this car is a honda civic\",\n",
        " \"this car is a lamborgini\",\n",
        " \"this car is a corvette\",\n",
        " \"this car is a f40 ferrari\",\n",
        "]\n",
        "\n",
        "image = preprocess(image_pil).unsqueeze(0).to(device)\n",
        "text = clip.tokenize(possible_classes).to(device)\n",
        "\n",
        "with torch.no_grad():\n",
        "  image_features = model.encode_image(image)\n",
        "  text_features = model.encode_text(text)\n",
        "\n",
        "  logits_per_image, logits_per_text = model(image, text)\n",
        "  probs = logits_per_image.softmax(dim=-1).cpu().numpy()\n",
        "\n",
        "format_preds(probs[0], possible_classes)"
      ],
      "metadata": {
        "id": "zD58tAoBJfPi",
        "outputId": "44290f45-8075-49a8-a059-295348d6930d",
        "colab": {
          "base_uri": "https://localhost:8080/"
        }
      },
      "execution_count": 10,
      "outputs": [
        {
          "output_type": "stream",
          "name": "stdout",
          "text": [
            "0.00533-this car is a honda civic\n",
            "0.38713-this car is a lamborgini\n",
            "0.60312-this car is a corvette\n",
            "0.00443-this car is a f40 ferrari\n"
          ]
        }
      ]
    },
    {
      "cell_type": "markdown",
      "source": [
        "# CLIP vai avaliar as classes do texto"
      ],
      "metadata": {
        "id": "9X5X9ABxK2OM"
      }
    },
    {
      "cell_type": "code",
      "source": [
        "possible_classes = [\n",
        " \"this is a boat\",\n",
        " \"this is a car\",\n",
        " \"this is a airplane\"\n",
        "]\n",
        "\n",
        "image = preprocess(image_pil).unsqueeze(0).to(device)\n",
        "text = clip.tokenize(possible_classes).to(device)\n",
        "\n",
        "with torch.no_grad():\n",
        "  image_features = model.encode_image(image)\n",
        "  text_features = model.encode_text(text)\n",
        "\n",
        "  logits_per_image, logits_per_text = model(image, text)\n",
        "  probs = logits_per_image.softmax(dim=-1).cpu().numpy()\n",
        "\n",
        "format_preds(probs[0], possible_classes)"
      ],
      "metadata": {
        "id": "axBrxu1IKbnP",
        "outputId": "bc4aac82-a6b9-4440-faa2-2bcb92126977",
        "colab": {
          "base_uri": "https://localhost:8080/"
        }
      },
      "execution_count": 11,
      "outputs": [
        {
          "output_type": "stream",
          "name": "stdout",
          "text": [
            "0.00199-this is a boat\n",
            "0.99477-this is a car\n",
            "0.00324-this is a airplane\n"
          ]
        }
      ]
    }
  ]
}